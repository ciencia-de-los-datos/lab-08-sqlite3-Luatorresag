{
 "cells": [
  {
   "cell_type": "code",
   "execution_count": 9,
   "metadata": {},
   "outputs": [],
   "source": [
    "import pandas as pd\n",
    "import sqlite3"
   ]
  },
  {
   "cell_type": "code",
   "execution_count": 10,
   "metadata": {},
   "outputs": [],
   "source": [
    "def ejecutar_query(conexion, query):\n",
    "    cursor = conexion.cursor()\n",
    "    cursor.execute(query)\n",
    "    data = cursor.fetchall()\n",
    "\n",
    "    cols = [val[0] for val in cursor.description]\n",
    "    return pd.DataFrame(data, columns=cols).to_dict()\n"
   ]
  },
  {
   "cell_type": "code",
   "execution_count": 31,
   "metadata": {},
   "outputs": [],
   "source": [
    "conexion = sqlite3.connect(\":memory:\")\n",
    "cursor = conexion.cursor()\n",
    "with open(\"create_tables.sql\") as f:\n",
    "    cursor.executescript(f.read())"
   ]
  },
  {
   "cell_type": "code",
   "execution_count": 32,
   "metadata": {},
   "outputs": [
    {
     "data": {
      "text/plain": [
       "{'K0': {0: 'A', 1: 'B', 2: 'C', 3: 'D', 4: 'E'},\n",
       " 'avg(c21)': {0: 593.495,\n",
       "  1: 575.47,\n",
       "  2: 530.7529999999999,\n",
       "  3: 655.6125,\n",
       "  4: 555.3230769230769}}"
      ]
     },
     "execution_count": 32,
     "metadata": {},
     "output_type": "execute_result"
    }
   ],
   "source": [
    "query = \"\"\"\n",
    "SELECT t1.K0,avg(t2.c21) AS 'avg(c21)'\n",
    "FROM tbl1 AS t1\n",
    "INNER JOIN tbl2 AS t2 ON t1.K1 = t2.K1\n",
    "WHERE T1.C13 > 400 \n",
    "GROUP BY t1.K0\n",
    "\"\"\"\n",
    "ejecutar_query(conexion, query)\n"
   ]
  },
  {
   "cell_type": "code",
   "execution_count": 33,
   "metadata": {},
   "outputs": [
    {
     "data": {
      "text/plain": [
       "{'K0': {0: 'A', 1: 'B', 2: 'C', 3: 'D', 4: 'E'},\n",
       " 'avg(c21)': {0: 593.495,\n",
       "  1: 575.47,\n",
       "  2: 530.7529999999999,\n",
       "  3: 655.6125,\n",
       "  4: 555.323076923077}}"
      ]
     },
     "execution_count": 33,
     "metadata": {},
     "output_type": "execute_result"
    }
   ],
   "source": [
    "respuesta = {\n",
    "        \"K0\": {0: \"A\", 1: \"B\", 2: \"C\", 3: \"D\", 4: \"E\"},\n",
    "        \"avg(c21)\": {\n",
    "            0: 593.495,\n",
    "            1: 575.47,\n",
    "            2: 530.7529999999999,\n",
    "            3: 655.6125,\n",
    "            4: 555.323076923077,\n",
    "        },\n",
    "    }\n",
    "ejecutar_query(conexion, query)==respuesta\n",
    "# respuesta"
   ]
  },
  {
   "cell_type": "code",
   "execution_count": null,
   "metadata": {},
   "outputs": [],
   "source": [
    "{\"strftime('%Y',c23)\": {0: '2016', 1: '2017', 2: '2018', 3: '2019'},\n",
    " 'avg(c21)': {0: 564.4764285714285,\n",
    "  1: 515.1563636363637,\n",
    "  2: 557.5593749999999,\n",
    "  3: 550.9985714285714}}\n",
    "\n",
    "{\n",
    "        \"strftime('%Y', c23)\": {0: \"2016\", 1: \"2017\", 2: \"2018\", 3: \"2019\"},\n",
    "        \"avg(c21)\": {\n",
    "            0: 564.4764285714285,\n",
    "            1: 515.1563636363637,\n",
    "            2: 557.5593749999999,\n",
    "            3: 550.9985714285714,\n",
    "        }\n",
    "    }"
   ]
  }
 ],
 "metadata": {
  "kernelspec": {
   "display_name": ".venv",
   "language": "python",
   "name": "python3"
  },
  "language_info": {
   "codemirror_mode": {
    "name": "ipython",
    "version": 3
   },
   "file_extension": ".py",
   "mimetype": "text/x-python",
   "name": "python",
   "nbconvert_exporter": "python",
   "pygments_lexer": "ipython3",
   "version": "3.11.9"
  }
 },
 "nbformat": 4,
 "nbformat_minor": 2
}
